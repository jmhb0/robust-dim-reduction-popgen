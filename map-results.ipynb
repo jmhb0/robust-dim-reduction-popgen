{
 "cells": [
  {
   "cell_type": "code",
   "execution_count": null,
   "metadata": {},
   "outputs": [],
   "source": [
    "import numpy as np\n",
    "import pandas as pd\n",
    "import matplotlib.pyplot as plt\n",
    "import os\n",
    "from scipy.spatial import procrustes\n",
    "\n",
    "data_path = '/Users/jamesburgess/research/robust-dim-reduction-popgen'"
   ]
  },
  {
   "cell_type": "markdown",
   "metadata": {},
   "source": [
    "# Read sample label & country lookup data"
   ]
  },
  {
   "cell_type": "code",
   "execution_count": null,
   "metadata": {},
   "outputs": [],
   "source": [
    "popres_samples = pd.read_csv('{}/data/labels.csv'.format(data_path)).set_index('indID')\n",
    "popres_samples.groupby('label').count()"
   ]
  },
  {
   "cell_type": "code",
   "execution_count": null,
   "metadata": {},
   "outputs": [],
   "source": [
    "country_lookup = pd.read_csv('{}/data/country-origins.csv'.format(data_path), sep=\",\")\\\n",
    "                    .set_index('Geographic-Origin')\n",
    "country_lookup"
   ]
  },
  {
   "cell_type": "markdown",
   "metadata": {},
   "source": [
    "# Functions"
   ]
  },
  {
   "cell_type": "code",
   "execution_count": null,
   "metadata": {},
   "outputs": [],
   "source": [
    "\"\"\"\n",
    "For datasets where there is one row per label/sample, indexed by 'indID'. \n",
    "Take a centroid of the data points as the predicted country location\n",
    "This will not correctly plot data that is already country-averaged\n",
    "\"\"\"\n",
    "def run_plot(PC_projection, labels, show_plot=True, savefig=True):\n",
    "    assert len(PC_projection) == len(labels)\n",
    "\n",
    "    # find the countries corresponding to each label, build new dataframe\n",
    "    countries = labels.join(popres_samples, rsuffix='_')['label']\n",
    "    df = pd.DataFrame(data=PC_projection, index=countries)\n",
    "    \n",
    "    # find sample means  \n",
    "    df_countries = df.groupby(df.index).mean()\n",
    "    n=len(df_countries)\n",
    "    print(\"\\nData has {} distinct countries/groups\".format(n))\n",
    "    \n",
    "    # Do procrustes rotation to align the map\n",
    "    d2 = df_countries[[0,1]]  # top 2 PCs\n",
    "    d1 = country_lookup.loc[d2.index][['Longitude', 'Latitude']] \n",
    "    \n",
    "    d1_normalized, d1_rotated, disparity = procrustes(d1, d2)\n",
    "    print(\"Doing Procrustes transform. $M^2$ error = {:.4f}\".format(disparity))\n",
    "    \n",
    "    # plotting and saving\n",
    "    if show_plot:\n",
    "        f, ax = plt.subplots(1,1, figsize=(20,20))\n",
    "        for i in range(len(d1_rotated)):\n",
    "            country = d1.iloc[i].name\n",
    "            country_abbreviation = country_lookup.loc[country]['Abbreviation']\n",
    "            ax.scatter(d1_rotated[i,0], d1_rotated[i,1]\n",
    "                            , marker=\"${}$\".format(country_abbreviation)\n",
    "                            , s=1000)\n",
    "        if savefig:\n",
    "            fname = '{}/results/{}-country-mean-projection.png'.format(data_path, fname_prefix)\n",
    "    return disparity, n\n",
    "\n",
    "def run_plot_from_label_id(fname_prefix, show_plot=True, savefig=True):\n",
    "    # Read and report data \n",
    "    fname_PC_projection = '{}/results/{}-PC_projection.dat'.format(data_path, fname_prefix)\n",
    "    fname_labels = '{}/results/{}-labels.csv'.format(data_path, fname_prefix)\n",
    "    print(\"Reading:\\n\\t{}\\n\\t{}\".format(fname_PC_projection, fname_labels))\n",
    "    PC_projection = np.loadtxt(fname_PC_projection)\n",
    "    labels = pd.read_csv(fname_labels).set_index('indID')\n",
    "    assert len(PC_projection) == len(labels)\n",
    "    print(\"Read {} data poitns\".format(len(labels)))\n",
    "    \n",
    "    run_plot(PC_projection, labels, show_plot=True, savefig=True)"
   ]
  },
  {
   "cell_type": "code",
   "execution_count": null,
   "metadata": {},
   "outputs": [],
   "source": [
    "''' \n",
    "Test variyng the `disparity` metric that's output by scipy.spatial.procrustes\n",
    "Look at whether normalizing is appropriate. \n",
    "'''\n",
    "def run_disparit_metric_experiment():\n",
    "    raise NotImplemented()"
   ]
  },
  {
   "cell_type": "markdown",
   "metadata": {},
   "source": [
    "# Projections: Vanilla PCA"
   ]
  },
  {
   "cell_type": "code",
   "execution_count": null,
   "metadata": {},
   "outputs": [],
   "source": [
    "fname_prefix = 'pca-countries_gt_4_n_samples-removed_outliers-filter_20_samples_p_cntry'\n",
    "_ = run_plot_by_label_id(fname_prefix)    "
   ]
  },
  {
   "cell_type": "code",
   "execution_count": null,
   "metadata": {},
   "outputs": [],
   "source": [
    "fname_prefix = 'pca-countries_gt_4_n_samples-removed_outliers-no_other_filtering'\n",
    "_ = run_plot_by_label_id(fname_prefix)    "
   ]
  },
  {
   "cell_type": "markdown",
   "metadata": {},
   "source": [
    "# Projections: Normalized PCA\n",
    "\n",
    "2 Cases\n",
    "- First using similarity metric $\\frac{1}{d^1}$ for the Laplacian\n",
    "- Second using similarity metric $\\frac{1}{d^2}$ for the Laplacian"
   ]
  },
  {
   "cell_type": "code",
   "execution_count": null,
   "metadata": {},
   "outputs": [],
   "source": [
    "fname_prefix = 'norm-countries_gt_4_n_samples-pca-no_removed_outliers-no_other_filters-norm_pca-inv_pow_1'\n",
    "_ = run_plot_by_label_id(fname_prefix)    "
   ]
  },
  {
   "cell_type": "code",
   "execution_count": null,
   "metadata": {},
   "outputs": [],
   "source": [
    "fname_prefix = 'norm-countries_gt_4_n_samples-pca-no_removed_outliers-no_other_filters-norm_pca-inv_pow_2'\n",
    "_ = run_plot_by_label_id(fname_prefix)    "
   ]
  },
  {
   "cell_type": "markdown",
   "metadata": {},
   "source": [
    "# Supervised PCA \n",
    "The same 2 cases as normalized PCA. \n",
    "\n",
    "Sets $t=0$."
   ]
  },
  {
   "cell_type": "code",
   "execution_count": null,
   "metadata": {},
   "outputs": [],
   "source": [
    "fname_prefix = 'supervised_pca_t_0-countries_gt_4_n_samples-pca-no_removed_outliers-no_other_filters-norm_pca-inv_pow_1'\n",
    "_ = run_plot_by_label_id(fname_prefix)    "
   ]
  },
  {
   "cell_type": "code",
   "execution_count": null,
   "metadata": {},
   "outputs": [],
   "source": [
    "fname_prefix = 'supervised_pca_t_0-countries_gt_4_n_samples-pca-no_removed_outliers-no_other_filters-norm_pca-inv_pow_2'\n",
    "_ = run_plot_by_label_id(fname_prefix)    "
   ]
  }
 ],
 "metadata": {
  "kernelspec": {
   "display_name": "Python 3",
   "language": "python",
   "name": "python3"
  },
  "language_info": {
   "codemirror_mode": {
    "name": "ipython",
    "version": 3
   },
   "file_extension": ".py",
   "mimetype": "text/x-python",
   "name": "python",
   "nbconvert_exporter": "python",
   "pygments_lexer": "ipython3",
   "version": "3.7.6"
  }
 },
 "nbformat": 4,
 "nbformat_minor": 4
}
